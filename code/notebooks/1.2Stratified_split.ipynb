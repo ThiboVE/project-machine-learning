{
 "cells": [
  {
   "cell_type": "code",
   "execution_count": 1,
   "id": "79ce16e3",
   "metadata": {},
   "outputs": [],
   "source": [
    "from sklearn.model_selection import train_test_split\n",
    "import matplotlib.pyplot as plt\n",
    "import pandas as pd\n",
    "import numpy as np"
   ]
  },
  {
   "cell_type": "code",
   "execution_count": null,
   "id": "8cdfbfc8",
   "metadata": {},
   "outputs": [
    {
     "name": "stdout",
     "output_type": "stream",
     "text": [
      "<class 'pandas.core.frame.DataFrame'>\n",
      "RangeIndex: 129012 entries, 0 to 129011\n",
      "Columns: 219 entries, MaxAbsEStateIndex to gaps\n",
      "dtypes: float64(108), int64(110), object(1)\n",
      "memory usage: 215.6+ MB\n",
      "None\n"
     ]
    }
   ],
   "source": [
    "df = pd.read_pickle(\"../data/RDKit/rdkit_only_valid_smiles_qm9.pkl\")\n",
    "# Check the info of the dataframe, especially important is the dtypes of the columns\n",
    "print(df.info())"
   ]
  },
  {
   "cell_type": "code",
   "execution_count": 10,
   "id": "2201c293",
   "metadata": {},
   "outputs": [
    {
     "data": {
      "text/html": [
       "<div>\n",
       "<style scoped>\n",
       "    .dataframe tbody tr th:only-of-type {\n",
       "        vertical-align: middle;\n",
       "    }\n",
       "\n",
       "    .dataframe tbody tr th {\n",
       "        vertical-align: top;\n",
       "    }\n",
       "\n",
       "    .dataframe thead th {\n",
       "        text-align: right;\n",
       "    }\n",
       "</style>\n",
       "<table border=\"1\" class=\"dataframe\">\n",
       "  <thead>\n",
       "    <tr style=\"text-align: right;\">\n",
       "      <th></th>\n",
       "      <th>SMILES</th>\n",
       "    </tr>\n",
       "  </thead>\n",
       "  <tbody>\n",
       "    <tr>\n",
       "      <th>0</th>\n",
       "      <td>[H]C([H])([H])[H]</td>\n",
       "    </tr>\n",
       "    <tr>\n",
       "      <th>1</th>\n",
       "      <td>[H]N([H])[H]</td>\n",
       "    </tr>\n",
       "    <tr>\n",
       "      <th>2</th>\n",
       "      <td>[H]O[H]</td>\n",
       "    </tr>\n",
       "    <tr>\n",
       "      <th>3</th>\n",
       "      <td>[H]C#C[H]</td>\n",
       "    </tr>\n",
       "    <tr>\n",
       "      <th>4</th>\n",
       "      <td>[H]C#N</td>\n",
       "    </tr>\n",
       "    <tr>\n",
       "      <th>...</th>\n",
       "      <td>...</td>\n",
       "    </tr>\n",
       "    <tr>\n",
       "      <th>129007</th>\n",
       "      <td>[H]C1([H])[C@@]23[N@H+]4[C@@]5([H])[C@]1([H])[...</td>\n",
       "    </tr>\n",
       "    <tr>\n",
       "      <th>129008</th>\n",
       "      <td>[H]C1([H])[C@@]2([H])[C@@]3([H])[C@@]14O[C@]1(...</td>\n",
       "    </tr>\n",
       "    <tr>\n",
       "      <th>129009</th>\n",
       "      <td>[H]C1([H])[N@@H+]2[C@@]3([H])[C@]2([H])[C@]2([...</td>\n",
       "    </tr>\n",
       "    <tr>\n",
       "      <th>129010</th>\n",
       "      <td>[H]C1([H])[N@H+]2[C@@]3([H])[C@@]14C([H])([H])...</td>\n",
       "    </tr>\n",
       "    <tr>\n",
       "      <th>129011</th>\n",
       "      <td>[H]C1([H])[N@H+]2[C@@]3([H])[C@@]14O[C@@]1([H]...</td>\n",
       "    </tr>\n",
       "  </tbody>\n",
       "</table>\n",
       "<p>129012 rows × 1 columns</p>\n",
       "</div>"
      ],
      "text/plain": [
       "                                                   SMILES\n",
       "0                                       [H]C([H])([H])[H]\n",
       "1                                            [H]N([H])[H]\n",
       "2                                                 [H]O[H]\n",
       "3                                               [H]C#C[H]\n",
       "4                                                  [H]C#N\n",
       "...                                                   ...\n",
       "129007  [H]C1([H])[C@@]23[N@H+]4[C@@]5([H])[C@]1([H])[...\n",
       "129008  [H]C1([H])[C@@]2([H])[C@@]3([H])[C@@]14O[C@]1(...\n",
       "129009  [H]C1([H])[N@@H+]2[C@@]3([H])[C@]2([H])[C@]2([...\n",
       "129010  [H]C1([H])[N@H+]2[C@@]3([H])[C@@]14C([H])([H])...\n",
       "129011  [H]C1([H])[N@H+]2[C@@]3([H])[C@@]14O[C@@]1([H]...\n",
       "\n",
       "[129012 rows x 1 columns]"
      ]
     },
     "execution_count": 10,
     "metadata": {},
     "output_type": "execute_result"
    }
   ],
   "source": [
    "df.select_dtypes(include=[object])"
   ]
  },
  {
   "cell_type": "markdown",
   "id": "f550f376",
   "metadata": {},
   "source": [
    "Machine learning models can't generally handle strings (the SMILES of the molecules in our case).\n",
    "\n",
    "Based on the type of data that is encoded in the string, the following optoins are available\n",
    "\n",
    "- Categorical (small set of discrete values) $\\rightarrow$ Use label encoding or one-hot encoding\n",
    "- Text (sentences, descriptions, reviews, etc.) $\\rightarrow$ Use text vectorization (TF-IDF, embeddings, etc.)\n",
    "- IDs or identifiers (like user IDs, product codes) $\\rightarrow$ Usually drop them, unless they carry domain meaning\n",
    "- Mixed or corrupted data $\\rightarrow$ Clean or cast to the proper type (e.g., numeric or datetime)\n",
    "\n",
    "In our case, the SMILES act as IDs for the molecule, so we can drop them. This will not be a problem as the data of the SMILES is all encoded into the 217 features."
   ]
  },
  {
   "cell_type": "code",
   "execution_count": null,
   "id": "745853e9",
   "metadata": {},
   "outputs": [],
   "source": [
    "# Split features and target\n",
    "X = df.drop(columns=['gaps', 'SMILES']) # Drop the target variable and the SMILES objects\n",
    "y = df['gaps']"
   ]
  },
  {
   "cell_type": "code",
   "execution_count": 8,
   "id": "9555e885",
   "metadata": {},
   "outputs": [
    {
     "data": {
      "text/plain": [
       "<Axes: >"
      ]
     },
     "execution_count": 8,
     "metadata": {},
     "output_type": "execute_result"
    },
    {
     "data": {
      "image/png": "[encoded data removed]",
      "text/plain": [
       "<Figure size 640x480 with 1 Axes>"
      ]
     },
     "metadata": {},
     "output_type": "display_data"
    }
   ],
   "source": [
    "y.hist(bins=100)"
   ]
  },
  {
   "cell_type": "markdown",
   "id": "0948e3c3",
   "metadata": {},
   "source": [
    "Create Stratification Bins\n",
    "\n",
    "I have found two methods from pandas:\n",
    "- In qcut, the number of elements in each bin will be roughly the same, but this will come at the cost of differently sized interval widths.\n",
    "- Alternatively, you also have the pd.cut function, in which the bin edges were equal sized with uneven number of elements in each bin or group.\n",
    "\n",
    "I think qcut is better"
   ]
  },
  {
   "cell_type": "code",
   "execution_count": null,
   "id": "9bc49c56",
   "metadata": {},
   "outputs": [
    {
     "data": {
      "text/plain": [
       "0         9\n",
       "1         9\n",
       "2         9\n",
       "3         9\n",
       "4         9\n",
       "         ..\n",
       "129007    9\n",
       "129008    9\n",
       "129009    7\n",
       "129010    8\n",
       "129011    8\n",
       "Name: gaps, Length: 129012, dtype: int64"
      ]
     },
     "execution_count": 15,
     "metadata": {},
     "output_type": "execute_result"
    }
   ],
   "source": [
    "# Option A: Quantile bins (balances number of samples per bin)\n",
    "# In qcut, the number of elements in each bin will be roughly the same, \n",
    "# but this will come at the cost of differently sized interval widths.\n",
    "\n",
    "num_bins = 10  # 10 bins for deciles (tune as needed)\n",
    "gap_bins = pd.qcut(y, q=num_bins, labels=False)\n",
    "\n",
    "gap_bins"
   ]
  },
  {
   "cell_type": "code",
   "execution_count": 17,
   "id": "2b6468f4",
   "metadata": {},
   "outputs": [],
   "source": [
    "# Stratified Train/Test Split\n",
    "X_tv, X_test, y_tv, y_test = train_test_split(\n",
    "    X, y,\n",
    "    test_size=0.15,\n",
    "    random_state=42,\n",
    "    stratify=gap_bins\n",
    ")"
   ]
  },
  {
   "cell_type": "code",
   "execution_count": 25,
   "id": "a5a1933b",
   "metadata": {},
   "outputs": [],
   "source": [
    "gap_bins_2 = pd.qcut(y_tv, q=num_bins, labels=False)"
   ]
  },
  {
   "cell_type": "code",
   "execution_count": 26,
   "id": "c37974f8",
   "metadata": {},
   "outputs": [],
   "source": [
    "# Stratified Train/Validation Split\n",
    "X_train, X_validation, y_train, y_validation = train_test_split(\n",
    "    X_tv, y_tv,\n",
    "    test_size=0.06,\n",
    "    random_state=42,\n",
    "    stratify=gap_bins_2\n",
    ")"
   ]
  },
  {
   "cell_type": "code",
   "execution_count": 27,
   "id": "79a6925c",
   "metadata": {},
   "outputs": [
    {
     "data": {
      "image/png": "[encoded data removed]",
      "text/plain": [
       "<Figure size 640x480 with 1 Axes>"
      ]
     },
     "metadata": {},
     "output_type": "display_data"
    }
   ],
   "source": [
    "# Verify the Stratification\n",
    "plt.hist(y_train, bins=100, alpha=0.5, label='y_train')\n",
    "plt.hist(y_validation, bins=100, alpha=0.5, label='y_validation')\n",
    "plt.hist(y_test, bins=100, alpha=0.5, label='y_test')\n",
    "\n",
    "plt.xlabel('HOMO-LUMO Gap (eV)')\n",
    "plt.ylabel('Count')\n",
    "plt.legend()\n",
    "plt.show()"
   ]
  },
  {
   "cell_type": "code",
   "execution_count": 27,
   "id": "30543300",
   "metadata": {},
   "outputs": [
    {
     "name": "stdout",
     "output_type": "stream",
     "text": [
      "180\n"
     ]
    },
    {
     "data": {
      "text/plain": [
       "index                                                      180\n",
       "smiles                                               FC(F)(F)F\n",
       "num_atoms                                                    5\n",
       "mu                                                      0.0003\n",
       "alpha                                                    15.93\n",
       "HOMO                                                  -11.6628\n",
       "LUMO                                                  5.265403\n",
       "gap                                                  16.928204\n",
       "r2                                                  279.320801\n",
       "zpve                                                  0.466594\n",
       "U0                                               -11904.569336\n",
       "U298                                             -11904.462891\n",
       "H298                                               -11904.4375\n",
       "G298                                              -11905.30957\n",
       "Cv                                                      12.639\n",
       "U0_atom                                             -20.767269\n",
       "U298_atom                                           -20.853312\n",
       "H298_atom                                           -20.956036\n",
       "G298_atom                                           -19.498756\n",
       "A                                                      5.71326\n",
       "B                                                      5.71279\n",
       "C                                                      5.71267\n",
       "atoms        [tensor(9), tensor(6), tensor(9), tensor(9), t...\n",
       "pos          [[tensor(0.0011), tensor(0.0735), tensor(0.002...\n",
       "edge_idx     [[tensor(0), tensor(1), tensor(1), tensor(1), ...\n",
       "edge_attr    [[tensor(1.), tensor(0.), tensor(0.), tensor(0...\n",
       "gap_bin                                                      9\n",
       "Name: 180, dtype: object"
      ]
     },
     "execution_count": 27,
     "metadata": {},
     "output_type": "execute_result"
    }
   ],
   "source": [
    "df[\"gap\"].max()\n",
    "\n",
    "bools = df[\"gap\"] == df[\"gap\"].max()\n",
    "\n",
    "for i, val in enumerate(bools):\n",
    "    if val is True:\n",
    "        print(i)\n",
    "\n",
    "df.iloc[180]"
   ]
  },
  {
   "cell_type": "code",
   "execution_count": null,
   "id": "898db7c1",
   "metadata": {},
   "outputs": [],
   "source": []
  }
 ],
 "metadata": {
  "kernelspec": {
   "display_name": "Python 3",
   "language": "python",
   "name": "python3"
  },
  "language_info": {
   "codemirror_mode": {
    "name": "ipython",
    "version": 3
   },
   "file_extension": ".py",
   "mimetype": "text/x-python",
   "name": "python",
   "nbconvert_exporter": "python",
   "pygments_lexer": "ipython3",
   "version": "3.12.12"
  }
 },
 "nbformat": 4,
 "nbformat_minor": 5
}
