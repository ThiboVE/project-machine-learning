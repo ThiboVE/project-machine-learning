{
 "cells": [
  {
   "cell_type": "code",
   "execution_count": null,
   "id": "2366f40d",
   "metadata": {},
   "outputs": [],
   "source": [
    "from torch_geometric.datasets import QM9\n",
    "\n",
    "\n",
    "dataset = QM9(root='data/QM9')\n",
    "print(\"Number of molecules:\", len(dataset))"
   ]
  }
 ],
 "metadata": {
  "language_info": {
   "name": "python"
  }
 },
 "nbformat": 4,
 "nbformat_minor": 5
}
