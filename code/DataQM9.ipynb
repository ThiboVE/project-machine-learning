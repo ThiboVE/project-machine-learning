{
 "cells": [
  {
   "cell_type": "code",
   "execution_count": 1,
   "id": "2366f40d",
   "metadata": {},
   "outputs": [
    {
     "name": "stderr",
     "output_type": "stream",
     "text": [
      "/usr/local/lib/python3.12/site-packages/tqdm/auto.py:21: TqdmWarning: IProgress not found. Please update jupyter and ipywidgets. See https://ipywidgets.readthedocs.io/en/stable/user_install.html\n",
      "  from .autonotebook import tqdm as notebook_tqdm\n",
      "Downloading https://deepchemdata.s3-us-west-1.amazonaws.com/datasets/molnet_publish/qm9.zip\n",
      "Extracting data/QM9/raw/qm9.zip\n",
      "Downloading https://ndownloader.figshare.com/files/3195404\n",
      "Processing...\n",
      "100%|██████████| 133885/133885 [04:26<00:00, 501.97it/s]\n",
      "Done!\n"
     ]
    },
    {
     "name": "stdout",
     "output_type": "stream",
     "text": [
      "Number of molecules: 130831\n"
     ]
    }
   ],
   "source": [
    "from torch_geometric.datasets import QM9\n",
    "\n",
    "\n",
    "dataset = QM9(root='data/QM9')\n",
    "print(\"Number of molecules:\", len(dataset))"
   ]
  },
  {
   "cell_type": "code",
   "execution_count": 12,
   "id": "257eb4f0",
   "metadata": {},
   "outputs": [
    {
     "name": "stdout",
     "output_type": "stream",
     "text": [
      "   index             smiles  num_atoms       HOMO      LUMO        gap  \\\n",
      "0      0  [H]C([H])([H])[H]          5 -10.549854  3.186453  13.736308   \n",
      "1      1       [H]N([H])[H]          4  -6.993326  2.255824   9.249149   \n",
      "\n",
      "                                               atoms  \\\n",
      "0  [tensor(6), tensor(1), tensor(1), tensor(1), t...   \n",
      "1       [tensor(7), tensor(1), tensor(1), tensor(1)]   \n",
      "\n",
      "                                                 pos  \\\n",
      "0  [[tensor(-0.0127), tensor(1.0858), tensor(0.00...   \n",
      "1  [[tensor(-0.0404), tensor(1.0241), tensor(0.06...   \n",
      "\n",
      "                                            edge_idx  \\\n",
      "0  [[tensor(0), tensor(0), tensor(0), tensor(0), ...   \n",
      "1  [[tensor(0), tensor(0), tensor(0), tensor(1), ...   \n",
      "\n",
      "                                           edge_attr  \n",
      "0  [[tensor(1.), tensor(0.), tensor(0.), tensor(0...  \n",
      "1  [[tensor(1.), tensor(0.), tensor(0.), tensor(0...  \n"
     ]
    }
   ],
   "source": [
    "from functions_to_abstract_data import extract_qm9_data\n",
    "data_df = extract_qm9_data(dataset, n_samples=2)\n",
    "print(data_df)\n"
   ]
  }
 ],
 "metadata": {
  "kernelspec": {
   "display_name": "Python 3",
   "language": "python",
   "name": "python3"
  },
  "language_info": {
   "codemirror_mode": {
    "name": "ipython",
    "version": 3
   },
   "file_extension": ".py",
   "mimetype": "text/x-python",
   "name": "python",
   "nbconvert_exporter": "python",
   "pygments_lexer": "ipython3",
   "version": "3.12.12"
  }
 },
 "nbformat": 4,
 "nbformat_minor": 5
}
