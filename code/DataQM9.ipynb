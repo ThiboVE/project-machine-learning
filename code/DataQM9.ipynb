{
 "cells": [
  {
   "cell_type": "code",
   "execution_count": 1,
   "id": "2366f40d",
   "metadata": {},
   "outputs": [
    {
     "name": "stderr",
     "output_type": "stream",
     "text": [
      "/usr/local/lib/python3.12/site-packages/tqdm/auto.py:21: TqdmWarning: IProgress not found. Please update jupyter and ipywidgets. See https://ipywidgets.readthedocs.io/en/stable/user_install.html\n",
      "  from .autonotebook import tqdm as notebook_tqdm\n",
      "Downloading https://deepchemdata.s3-us-west-1.amazonaws.com/datasets/molnet_publish/qm9.zip\n",
      "Extracting data/QM9/raw/qm9.zip\n",
      "Downloading https://ndownloader.figshare.com/files/3195404\n",
      "Processing...\n",
      "100%|██████████| 133885/133885 [04:15<00:00, 523.85it/s]\n",
      "Done!\n"
     ]
    },
    {
     "name": "stdout",
     "output_type": "stream",
     "text": [
      "Number of molecules: 130831\n"
     ]
    }
   ],
   "source": [
    "from torch_geometric.datasets import QM9\n",
    "\n",
    "\n",
    "dataset = QM9(root='data/QM9')\n",
    "print(\"Number of molecules:\", len(dataset))"
   ]
  },
  {
   "cell_type": "code",
   "execution_count": 26,
   "id": "257eb4f0",
   "metadata": {},
   "outputs": [
    {
     "name": "stdout",
     "output_type": "stream",
     "text": [
      "Processed 1000/1000 molecules...\n",
      "   index             smiles  num_atoms         HOMO         LUMO          gap\n",
      "0      0  [H]C([H])([H])[H]          5 -1101.487793 -1101.409790 -1101.384033\n",
      "1      1       [H]N([H])[H]          4 -1538.147705 -1538.069824 -1538.044189\n",
      "2      2            [H]O[H]          3 -2079.077881 -2079.000732 -2078.975098\n",
      "3      3          [H]C#C[H]          4 -2103.669434 -2103.590576 -2103.564697\n",
      "4      4             [H]C#N          3 -2541.866943 -2541.798340 -2541.772705\n"
     ]
    }
   ],
   "source": [
    "from functions_to_abstract_data import extract_qm9_data\n",
    "data_df = extract_qm9_data(dataset, n_samples=1000)\n",
    "print(data_df.head())"
   ]
  }
 ],
 "metadata": {
  "kernelspec": {
   "display_name": "Python 3",
   "language": "python",
   "name": "python3"
  },
  "language_info": {
   "codemirror_mode": {
    "name": "ipython",
    "version": 3
   },
   "file_extension": ".py",
   "mimetype": "text/x-python",
   "name": "python",
   "nbconvert_exporter": "python",
   "pygments_lexer": "ipython3",
   "version": "3.12.12"
  }
 },
 "nbformat": 4,
 "nbformat_minor": 5
}
